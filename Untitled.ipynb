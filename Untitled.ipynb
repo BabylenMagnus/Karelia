{
 "cells": [
  {
   "cell_type": "code",
   "execution_count": 52,
   "id": "0ffd44c5",
   "metadata": {},
   "outputs": [],
   "source": [
    "import pandas as pd\n",
    "import numpy as np\n",
    "import matplotlib.pyplot as plt\n",
    "import os\n",
    "\n",
    "\n",
    "from pmdarima import auto_arima\n",
    "from statsmodels.tsa.arima_model import ARIMA"
   ]
  },
  {
   "cell_type": "code",
   "execution_count": 54,
   "id": "ffc04b98",
   "metadata": {},
   "outputs": [
    {
     "data": {
      "text/plain": [
       "['2014.XLS',\n",
       " '2017.xlsx',\n",
       " '2012.XLS',\n",
       " '2019.xlsx',\n",
       " '2013.xls',\n",
       " '2015.xls',\n",
       " '2016.xlsx',\n",
       " '2011.xlsx',\n",
       " '2010.xlsx',\n",
       " '2018.xlsx',\n",
       " '2020.xlsx']"
      ]
     },
     "execution_count": 54,
     "metadata": {},
     "output_type": "execute_result"
    }
   ],
   "source": [
    "PATH = 'Годовые отчеты об исполнении бюджета'\n",
    "os.listdir(PATH)"
   ]
  },
  {
   "cell_type": "code",
   "execution_count": 75,
   "id": "ccad531a",
   "metadata": {},
   "outputs": [
    {
     "data": {
      "text/html": [
       "<div>\n",
       "<style scoped>\n",
       "    .dataframe tbody tr th:only-of-type {\n",
       "        vertical-align: middle;\n",
       "    }\n",
       "\n",
       "    .dataframe tbody tr th {\n",
       "        vertical-align: top;\n",
       "    }\n",
       "\n",
       "    .dataframe thead th {\n",
       "        text-align: right;\n",
       "    }\n",
       "</style>\n",
       "<table border=\"1\" class=\"dataframe\">\n",
       "  <thead>\n",
       "    <tr style=\"text-align: right;\">\n",
       "      <th></th>\n",
       "      <th>Unnamed: 2</th>\n",
       "      <th>Unnamed: 3</th>\n",
       "    </tr>\n",
       "    <tr>\n",
       "      <th>Наименование показателя</th>\n",
       "      <th></th>\n",
       "      <th></th>\n",
       "    </tr>\n",
       "  </thead>\n",
       "  <tbody>\n",
       "    <tr>\n",
       "      <th>Доходы бюджета - Всего</th>\n",
       "      <td>31850910313</td>\n",
       "      <td>24873441175.450001</td>\n",
       "    </tr>\n",
       "    <tr>\n",
       "      <th>НАЛОГОВЫЕ И НЕНАЛОГОВЫЕ ДОХОДЫ</th>\n",
       "      <td>22026229702.959999</td>\n",
       "      <td>15322132232.73</td>\n",
       "    </tr>\n",
       "    <tr>\n",
       "      <th>НАЛОГИ НА ПРИБЫЛЬ, ДОХОДЫ</th>\n",
       "      <td>11701853815.610001</td>\n",
       "      <td>8613483384.459999</td>\n",
       "    </tr>\n",
       "    <tr>\n",
       "      <th>Налог на прибыль организаций</th>\n",
       "      <td>3980212142.4</td>\n",
       "      <td>3980212142.4</td>\n",
       "    </tr>\n",
       "    <tr>\n",
       "      <th>Налог на прибыль организаций, зачисляемый в бюджеты бюджетной системы Российской Федерации по соответствующим ставкам</th>\n",
       "      <td>3980212142.4</td>\n",
       "      <td>3980212142.4</td>\n",
       "    </tr>\n",
       "    <tr>\n",
       "      <th>...</th>\n",
       "      <td>...</td>\n",
       "      <td>...</td>\n",
       "    </tr>\n",
       "    <tr>\n",
       "      <th>Итого внутренних оборотов</th>\n",
       "      <td>8376695112.03</td>\n",
       "      <td>74747995.1</td>\n",
       "    </tr>\n",
       "    <tr>\n",
       "      <th>в том числе доходы от собственности (в части процентов по выданным кредитам)</th>\n",
       "      <td>10707157.69</td>\n",
       "      <td>10445023.69</td>\n",
       "    </tr>\n",
       "    <tr>\n",
       "      <th>поступления от других бюджетов бюджетной системы</th>\n",
       "      <td>8365987954.34</td>\n",
       "      <td>NaN</td>\n",
       "    </tr>\n",
       "    <tr>\n",
       "      <th>доходы от возвратов субсидий, субвенций и иных межбюджетных трансфертов прошлых лет</th>\n",
       "      <td>59729746.3</td>\n",
       "      <td>64302971.41</td>\n",
       "    </tr>\n",
       "    <tr>\n",
       "      <th>возврат неиспользованных остатков субсидий, субвенций и иных межбюджетных трансфертов прошлых лет</th>\n",
       "      <td>-59729746.3</td>\n",
       "      <td>NaN</td>\n",
       "    </tr>\n",
       "  </tbody>\n",
       "</table>\n",
       "<p>550 rows × 2 columns</p>\n",
       "</div>"
      ],
      "text/plain": [
       "                                                            Unnamed: 2  \\\n",
       " Наименование показателя                                                 \n",
       "Доходы бюджета - Всего                                     31850910313   \n",
       "НАЛОГОВЫЕ И НЕНАЛОГОВЫЕ ДОХОДЫ                      22026229702.959999   \n",
       "НАЛОГИ НА ПРИБЫЛЬ, ДОХОДЫ                           11701853815.610001   \n",
       "Налог на прибыль организаций                              3980212142.4   \n",
       "Налог на прибыль организаций, зачисляемый в бюд...        3980212142.4   \n",
       "...                                                                ...   \n",
       "Итого внутренних оборотов                                8376695112.03   \n",
       "в том числе доходы от собственности (в части пр...         10707157.69   \n",
       "поступления от других бюджетов бюджетной системы         8365987954.34   \n",
       "доходы от возвратов субсидий, субвенций и иных ...          59729746.3   \n",
       "возврат неиспользованных остатков субсидий, суб...         -59729746.3   \n",
       "\n",
       "                                                            Unnamed: 3  \n",
       " Наименование показателя                                                \n",
       "Доходы бюджета - Всего                              24873441175.450001  \n",
       "НАЛОГОВЫЕ И НЕНАЛОГОВЫЕ ДОХОДЫ                          15322132232.73  \n",
       "НАЛОГИ НА ПРИБЫЛЬ, ДОХОДЫ                            8613483384.459999  \n",
       "Налог на прибыль организаций                              3980212142.4  \n",
       "Налог на прибыль организаций, зачисляемый в бюд...        3980212142.4  \n",
       "...                                                                ...  \n",
       "Итого внутренних оборотов                                   74747995.1  \n",
       "в том числе доходы от собственности (в части пр...         10445023.69  \n",
       "поступления от других бюджетов бюджетной системы                   NaN  \n",
       "доходы от возвратов субсидий, субвенций и иных ...         64302971.41  \n",
       "возврат неиспользованных остатков субсидий, суб...                 NaN  \n",
       "\n",
       "[550 rows x 2 columns]"
      ]
     },
     "execution_count": 75,
     "metadata": {},
     "output_type": "execute_result"
    }
   ],
   "source": [
    "data = pd.ExcelFile(PATH + '/' + '2010.xlsx')\n",
    "\n",
    "income = data.parse(0)\n",
    "income.drop(income.columns[1], axis=1, inplace=True)\n",
    "income.drop([0, 1], inplace=True)\n",
    "income.set_index([income.columns[0]], inplace=True)\n",
    "\n",
    "# income.drop(0, 1)\n",
    "income"
   ]
  },
  {
   "cell_type": "code",
   "execution_count": null,
   "id": "ca0ab8f3",
   "metadata": {},
   "outputs": [],
   "source": [
    "31850910313"
   ]
  },
  {
   "cell_type": "code",
   "execution_count": 78,
   "id": "5ed90564",
   "metadata": {},
   "outputs": [
    {
     "data": {
      "text/plain": [
       "29747871376.17"
      ]
     },
     "execution_count": 78,
     "metadata": {},
     "output_type": "execute_result"
    }
   ],
   "source": []
  },
  {
   "cell_type": "code",
   "execution_count": 72,
   "id": "2ccac886",
   "metadata": {},
   "outputs": [
    {
     "ename": "KeyError",
     "evalue": "\"['NaN'] not found in axis\"",
     "output_type": "error",
     "traceback": [
      "\u001b[0;31m---------------------------------------------------------------------------\u001b[0m",
      "\u001b[0;31mKeyError\u001b[0m                                  Traceback (most recent call last)",
      "\u001b[0;32m<ipython-input-72-f98f038dbc74>\u001b[0m in \u001b[0;36m<module>\u001b[0;34m\u001b[0m\n\u001b[0;32m----> 1\u001b[0;31m \u001b[0mincome\u001b[0m\u001b[0;34m.\u001b[0m\u001b[0mdrop\u001b[0m\u001b[0;34m(\u001b[0m\u001b[0;34m'NaN'\u001b[0m\u001b[0;34m)\u001b[0m\u001b[0;34m\u001b[0m\u001b[0;34m\u001b[0m\u001b[0m\n\u001b[0m",
      "\u001b[0;32m~/.local/lib/python3.9/site-packages/pandas/core/frame.py\u001b[0m in \u001b[0;36mdrop\u001b[0;34m(self, labels, axis, index, columns, level, inplace, errors)\u001b[0m\n\u001b[1;32m   4306\u001b[0m                 \u001b[0mweight\u001b[0m  \u001b[0;36m1.0\u001b[0m     \u001b[0;36m0.8\u001b[0m\u001b[0;34m\u001b[0m\u001b[0;34m\u001b[0m\u001b[0m\n\u001b[1;32m   4307\u001b[0m         \"\"\"\n\u001b[0;32m-> 4308\u001b[0;31m         return super().drop(\n\u001b[0m\u001b[1;32m   4309\u001b[0m             \u001b[0mlabels\u001b[0m\u001b[0;34m=\u001b[0m\u001b[0mlabels\u001b[0m\u001b[0;34m,\u001b[0m\u001b[0;34m\u001b[0m\u001b[0;34m\u001b[0m\u001b[0m\n\u001b[1;32m   4310\u001b[0m             \u001b[0maxis\u001b[0m\u001b[0;34m=\u001b[0m\u001b[0maxis\u001b[0m\u001b[0;34m,\u001b[0m\u001b[0;34m\u001b[0m\u001b[0;34m\u001b[0m\u001b[0m\n",
      "\u001b[0;32m~/.local/lib/python3.9/site-packages/pandas/core/generic.py\u001b[0m in \u001b[0;36mdrop\u001b[0;34m(self, labels, axis, index, columns, level, inplace, errors)\u001b[0m\n\u001b[1;32m   4151\u001b[0m         \u001b[0;32mfor\u001b[0m \u001b[0maxis\u001b[0m\u001b[0;34m,\u001b[0m \u001b[0mlabels\u001b[0m \u001b[0;32min\u001b[0m \u001b[0maxes\u001b[0m\u001b[0;34m.\u001b[0m\u001b[0mitems\u001b[0m\u001b[0;34m(\u001b[0m\u001b[0;34m)\u001b[0m\u001b[0;34m:\u001b[0m\u001b[0;34m\u001b[0m\u001b[0;34m\u001b[0m\u001b[0m\n\u001b[1;32m   4152\u001b[0m             \u001b[0;32mif\u001b[0m \u001b[0mlabels\u001b[0m \u001b[0;32mis\u001b[0m \u001b[0;32mnot\u001b[0m \u001b[0;32mNone\u001b[0m\u001b[0;34m:\u001b[0m\u001b[0;34m\u001b[0m\u001b[0;34m\u001b[0m\u001b[0m\n\u001b[0;32m-> 4153\u001b[0;31m                 \u001b[0mobj\u001b[0m \u001b[0;34m=\u001b[0m \u001b[0mobj\u001b[0m\u001b[0;34m.\u001b[0m\u001b[0m_drop_axis\u001b[0m\u001b[0;34m(\u001b[0m\u001b[0mlabels\u001b[0m\u001b[0;34m,\u001b[0m \u001b[0maxis\u001b[0m\u001b[0;34m,\u001b[0m \u001b[0mlevel\u001b[0m\u001b[0;34m=\u001b[0m\u001b[0mlevel\u001b[0m\u001b[0;34m,\u001b[0m \u001b[0merrors\u001b[0m\u001b[0;34m=\u001b[0m\u001b[0merrors\u001b[0m\u001b[0;34m)\u001b[0m\u001b[0;34m\u001b[0m\u001b[0;34m\u001b[0m\u001b[0m\n\u001b[0m\u001b[1;32m   4154\u001b[0m \u001b[0;34m\u001b[0m\u001b[0m\n\u001b[1;32m   4155\u001b[0m         \u001b[0;32mif\u001b[0m \u001b[0minplace\u001b[0m\u001b[0;34m:\u001b[0m\u001b[0;34m\u001b[0m\u001b[0;34m\u001b[0m\u001b[0m\n",
      "\u001b[0;32m~/.local/lib/python3.9/site-packages/pandas/core/generic.py\u001b[0m in \u001b[0;36m_drop_axis\u001b[0;34m(self, labels, axis, level, errors)\u001b[0m\n\u001b[1;32m   4186\u001b[0m                 \u001b[0mnew_axis\u001b[0m \u001b[0;34m=\u001b[0m \u001b[0maxis\u001b[0m\u001b[0;34m.\u001b[0m\u001b[0mdrop\u001b[0m\u001b[0;34m(\u001b[0m\u001b[0mlabels\u001b[0m\u001b[0;34m,\u001b[0m \u001b[0mlevel\u001b[0m\u001b[0;34m=\u001b[0m\u001b[0mlevel\u001b[0m\u001b[0;34m,\u001b[0m \u001b[0merrors\u001b[0m\u001b[0;34m=\u001b[0m\u001b[0merrors\u001b[0m\u001b[0;34m)\u001b[0m\u001b[0;34m\u001b[0m\u001b[0;34m\u001b[0m\u001b[0m\n\u001b[1;32m   4187\u001b[0m             \u001b[0;32melse\u001b[0m\u001b[0;34m:\u001b[0m\u001b[0;34m\u001b[0m\u001b[0;34m\u001b[0m\u001b[0m\n\u001b[0;32m-> 4188\u001b[0;31m                 \u001b[0mnew_axis\u001b[0m \u001b[0;34m=\u001b[0m \u001b[0maxis\u001b[0m\u001b[0;34m.\u001b[0m\u001b[0mdrop\u001b[0m\u001b[0;34m(\u001b[0m\u001b[0mlabels\u001b[0m\u001b[0;34m,\u001b[0m \u001b[0merrors\u001b[0m\u001b[0;34m=\u001b[0m\u001b[0merrors\u001b[0m\u001b[0;34m)\u001b[0m\u001b[0;34m\u001b[0m\u001b[0;34m\u001b[0m\u001b[0m\n\u001b[0m\u001b[1;32m   4189\u001b[0m             \u001b[0mresult\u001b[0m \u001b[0;34m=\u001b[0m \u001b[0mself\u001b[0m\u001b[0;34m.\u001b[0m\u001b[0mreindex\u001b[0m\u001b[0;34m(\u001b[0m\u001b[0;34m**\u001b[0m\u001b[0;34m{\u001b[0m\u001b[0maxis_name\u001b[0m\u001b[0;34m:\u001b[0m \u001b[0mnew_axis\u001b[0m\u001b[0;34m}\u001b[0m\u001b[0;34m)\u001b[0m\u001b[0;34m\u001b[0m\u001b[0;34m\u001b[0m\u001b[0m\n\u001b[1;32m   4190\u001b[0m \u001b[0;34m\u001b[0m\u001b[0m\n",
      "\u001b[0;32m~/.local/lib/python3.9/site-packages/pandas/core/indexes/base.py\u001b[0m in \u001b[0;36mdrop\u001b[0;34m(self, labels, errors)\u001b[0m\n\u001b[1;32m   5590\u001b[0m         \u001b[0;32mif\u001b[0m \u001b[0mmask\u001b[0m\u001b[0;34m.\u001b[0m\u001b[0many\u001b[0m\u001b[0;34m(\u001b[0m\u001b[0;34m)\u001b[0m\u001b[0;34m:\u001b[0m\u001b[0;34m\u001b[0m\u001b[0;34m\u001b[0m\u001b[0m\n\u001b[1;32m   5591\u001b[0m             \u001b[0;32mif\u001b[0m \u001b[0merrors\u001b[0m \u001b[0;34m!=\u001b[0m \u001b[0;34m\"ignore\"\u001b[0m\u001b[0;34m:\u001b[0m\u001b[0;34m\u001b[0m\u001b[0;34m\u001b[0m\u001b[0m\n\u001b[0;32m-> 5592\u001b[0;31m                 \u001b[0;32mraise\u001b[0m \u001b[0mKeyError\u001b[0m\u001b[0;34m(\u001b[0m\u001b[0;34mf\"{labels[mask]} not found in axis\"\u001b[0m\u001b[0;34m)\u001b[0m\u001b[0;34m\u001b[0m\u001b[0;34m\u001b[0m\u001b[0m\n\u001b[0m\u001b[1;32m   5593\u001b[0m             \u001b[0mindexer\u001b[0m \u001b[0;34m=\u001b[0m \u001b[0mindexer\u001b[0m\u001b[0;34m[\u001b[0m\u001b[0;34m~\u001b[0m\u001b[0mmask\u001b[0m\u001b[0;34m]\u001b[0m\u001b[0;34m\u001b[0m\u001b[0;34m\u001b[0m\u001b[0m\n\u001b[1;32m   5594\u001b[0m         \u001b[0;32mreturn\u001b[0m \u001b[0mself\u001b[0m\u001b[0;34m.\u001b[0m\u001b[0mdelete\u001b[0m\u001b[0;34m(\u001b[0m\u001b[0mindexer\u001b[0m\u001b[0;34m)\u001b[0m\u001b[0;34m\u001b[0m\u001b[0;34m\u001b[0m\u001b[0m\n",
      "\u001b[0;31mKeyError\u001b[0m: \"['NaN'] not found in axis\""
     ]
    }
   ],
   "source": [
    "income.drop('NaN')"
   ]
  },
  {
   "cell_type": "code",
   "execution_count": 73,
   "id": "ee97de1f",
   "metadata": {},
   "outputs": [
    {
     "data": {
      "text/plain": [
       "Index(['Unnamed: 2', 'Unnamed: 3'], dtype='object')"
      ]
     },
     "execution_count": 73,
     "metadata": {},
     "output_type": "execute_result"
    }
   ],
   "source": [
    "income.columns"
   ]
  },
  {
   "cell_type": "code",
   "execution_count": 61,
   "id": "124b3d4b",
   "metadata": {},
   "outputs": [
    {
     "data": {
      "text/plain": [
       "0                                                    NaN\n",
       "1                                                      1\n",
       "2                                 Доходы бюджета - Всего\n",
       "3                         НАЛОГОВЫЕ И НЕНАЛОГОВЫЕ ДОХОДЫ\n",
       "4                              НАЛОГИ НА ПРИБЫЛЬ, ДОХОДЫ\n",
       "                             ...                        \n",
       "547                            Итого внутренних оборотов\n",
       "548    в том числе доходы от собственности (в части п...\n",
       "549     поступления от других бюджетов бюджетной системы\n",
       "550    доходы от возвратов субсидий, субвенций и иных...\n",
       "551    возврат неиспользованных остатков субсидий, су...\n",
       "Name:  Наименование показателя, Length: 552, dtype: object"
      ]
     },
     "execution_count": 61,
     "metadata": {},
     "output_type": "execute_result"
    }
   ],
   "source": [
    "income[' Наименование показателя']"
   ]
  },
  {
   "cell_type": "code",
   "execution_count": 63,
   "id": "4aa60797",
   "metadata": {},
   "outputs": [
    {
     "data": {
      "text/plain": [
       "Index(['Unnamed: 0', 'Unnamed: 1',\n",
       "       'Консолидированный бюджет субъекта Российской Федерации ',\n",
       "       'Бюджет субъекта Российской Федерации'],\n",
       "      dtype='object')"
      ]
     },
     "execution_count": 63,
     "metadata": {},
     "output_type": "execute_result"
    }
   ],
   "source": [
    "outcome.columns"
   ]
  },
  {
   "cell_type": "code",
   "execution_count": 64,
   "id": "2e3bd11a",
   "metadata": {},
   "outputs": [
    {
     "data": {
      "text/plain": [
       "0                                                       1\n",
       "1                                 Расходы бюджета - ИТОГО\n",
       "2                             Общегосударственные вопросы\n",
       "3                                                 Расходы\n",
       "4       Оплата труда и начисления на выплаты по оплате...\n",
       "                              ...                        \n",
       "1162    Перечисления другим бюджетам бюджетной системы...\n",
       "1163                            Итого внутренних оборотов\n",
       "1164    Перечисления другим бюджетам бюджетной системы...\n",
       "1165        обслуживание внутренних долговых обязательств\n",
       "1166    Результат исполнения бюджета (дефицит \"--\", пр...\n",
       "Name: Unnamed: 0, Length: 1167, dtype: object"
      ]
     },
     "execution_count": 64,
     "metadata": {},
     "output_type": "execute_result"
    }
   ],
   "source": [
    "outcome['Unnamed: 0']"
   ]
  },
  {
   "cell_type": "code",
   "execution_count": null,
   "id": "1cbb9a9a",
   "metadata": {},
   "outputs": [],
   "source": []
  },
  {
   "cell_type": "code",
   "execution_count": null,
   "id": "34e8ed83",
   "metadata": {},
   "outputs": [],
   "source": []
  },
  {
   "cell_type": "code",
   "execution_count": null,
   "id": "147d2268",
   "metadata": {},
   "outputs": [],
   "source": []
  },
  {
   "cell_type": "code",
   "execution_count": null,
   "id": "a5c1e8e5",
   "metadata": {},
   "outputs": [],
   "source": []
  },
  {
   "cell_type": "code",
   "execution_count": null,
   "id": "af70b92c",
   "metadata": {},
   "outputs": [],
   "source": []
  },
  {
   "cell_type": "code",
   "execution_count": null,
   "id": "25dbd2db",
   "metadata": {},
   "outputs": [],
   "source": [
    "import pandas as pd\n",
    "import os\n",
    "\n",
    "\n",
    "for file in os.listdir(PATH):\n",
    "    print(file)\n",
    "    data = pd.ExcelFile(PATH + '/' + file)\n",
    "    print(data.parse(0))\n"
   ]
  },
  {
   "cell_type": "code",
   "execution_count": null,
   "id": "f46e5669",
   "metadata": {},
   "outputs": [],
   "source": []
  },
  {
   "cell_type": "code",
   "execution_count": null,
   "id": "442ba6d1",
   "metadata": {},
   "outputs": [],
   "source": []
  },
  {
   "cell_type": "code",
   "execution_count": null,
   "id": "cbba856d",
   "metadata": {},
   "outputs": [],
   "source": []
  },
  {
   "cell_type": "code",
   "execution_count": null,
   "id": "1c013631",
   "metadata": {},
   "outputs": [],
   "source": []
  },
  {
   "cell_type": "code",
   "execution_count": null,
   "id": "f1de3b06",
   "metadata": {},
   "outputs": [],
   "source": []
  },
  {
   "cell_type": "code",
   "execution_count": 30,
   "id": "4aafece9",
   "metadata": {},
   "outputs": [
    {
     "data": {
      "text/plain": [
       "array([3.23396209e+10, 3.60940357e+10, 3.53950907e+10, 3.64626806e+10,\n",
       "       3.41177359e+10, 3.48015331e+10, 3.93236066e+10, 4.11086078e+10,\n",
       "       5.43780397e+10, 5.85435275e+10, 6.81826876e+10])"
      ]
     },
     "execution_count": 30,
     "metadata": {},
     "output_type": "execute_result"
    }
   ],
   "source": [
    "with open('complete.data', 'r') as f:\n",
    "    data = np.array([float(x) for x in f.read().split()])\n",
    "\n",
    "data"
   ]
  },
  {
   "cell_type": "code",
   "execution_count": 31,
   "id": "fed6a16f",
   "metadata": {
    "scrolled": true
   },
   "outputs": [
    {
     "data": {
      "text/plain": [
       "[<matplotlib.lines.Line2D at 0x7fb6cb5d95b0>]"
      ]
     },
     "execution_count": 31,
     "metadata": {},
     "output_type": "execute_result"
    },
    {
     "data": {
      "image/png": "[encoded data removed]",
      "text/plain": [
       "<Figure size 432x288 with 1 Axes>"
      ]
     },
     "metadata": {
      "needs_background": "light"
     },
     "output_type": "display_data"
    }
   ],
   "source": [
    "plt.plot(data)"
   ]
  },
  {
   "cell_type": "code",
   "execution_count": 34,
   "id": "286a3946",
   "metadata": {},
   "outputs": [
    {
     "name": "stdout",
     "output_type": "stream",
     "text": [
      "Performing stepwise search to minimize aic\n",
      " ARIMA(2,0,2)(0,0,0)[0] intercept   : AIC=inf, Time=0.16 sec\n",
      " ARIMA(0,0,0)(0,0,0)[0] intercept   : AIC=544.670, Time=0.00 sec\n",
      " ARIMA(1,0,0)(0,0,0)[0] intercept   : AIC=808.814, Time=0.01 sec\n",
      " ARIMA(0,0,1)(0,0,0)[0] intercept   : AIC=542.233, Time=0.01 sec\n",
      " ARIMA(0,0,0)(0,0,0)[0]             : AIC=572.524, Time=0.00 sec\n",
      " ARIMA(1,0,1)(0,0,0)[0] intercept   : AIC=inf, Time=0.04 sec\n",
      " ARIMA(0,0,2)(0,0,0)[0] intercept   : AIC=inf, Time=0.04 sec\n",
      " ARIMA(1,0,2)(0,0,0)[0] intercept   : AIC=inf, Time=0.07 sec\n",
      " ARIMA(0,0,1)(0,0,0)[0]             : AIC=569.949, Time=0.01 sec\n",
      "\n",
      "Best model:  ARIMA(0,0,1)(0,0,0)[0] intercept\n",
      "Total fit time: 0.346 seconds\n"
     ]
    },
    {
     "data": {
      "text/html": [
       "<table class=\"simpletable\">\n",
       "<caption>SARIMAX Results</caption>\n",
       "<tr>\n",
       "  <th>Dep. Variable:</th>           <td>y</td>        <th>  No. Observations:  </th>    <td>11</td>   \n",
       "</tr>\n",
       "<tr>\n",
       "  <th>Model:</th>           <td>SARIMAX(0, 0, 1)</td> <th>  Log Likelihood     </th> <td>-268.116</td>\n",
       "</tr>\n",
       "<tr>\n",
       "  <th>Date:</th>            <td>Sat, 04 Sep 2021</td> <th>  AIC                </th>  <td>542.233</td>\n",
       "</tr>\n",
       "<tr>\n",
       "  <th>Time:</th>                <td>09:43:15</td>     <th>  BIC                </th>  <td>543.427</td>\n",
       "</tr>\n",
       "<tr>\n",
       "  <th>Sample:</th>                  <td>0</td>        <th>  HQIC               </th>  <td>541.480</td>\n",
       "</tr>\n",
       "<tr>\n",
       "  <th></th>                       <td> - 11</td>      <th>                     </th>     <td> </td>   \n",
       "</tr>\n",
       "<tr>\n",
       "  <th>Covariance Type:</th>        <td>opg</td>       <th>                     </th>     <td> </td>   \n",
       "</tr>\n",
       "</table>\n",
       "<table class=\"simpletable\">\n",
       "<tr>\n",
       "      <td></td>         <th>coef</th>     <th>std err</th>      <th>z</th>      <th>P>|z|</th>  <th>[0.025</th>    <th>0.975]</th>  \n",
       "</tr>\n",
       "<tr>\n",
       "  <th>intercept</th> <td> 4.724e+10</td> <td> 8.85e-11</td> <td> 5.34e+20</td> <td> 0.000</td> <td> 4.72e+10</td> <td> 4.72e+10</td>\n",
       "</tr>\n",
       "<tr>\n",
       "  <th>ma.L1</th>     <td>    0.7580</td> <td>    1.596</td> <td>    0.475</td> <td> 0.635</td> <td>   -2.371</td> <td>    3.887</td>\n",
       "</tr>\n",
       "<tr>\n",
       "  <th>sigma2</th>    <td> 1.123e+20</td> <td> 1.35e-20</td> <td> 8.31e+39</td> <td> 0.000</td> <td> 1.12e+20</td> <td> 1.12e+20</td>\n",
       "</tr>\n",
       "</table>\n",
       "<table class=\"simpletable\">\n",
       "<tr>\n",
       "  <th>Ljung-Box (L1) (Q):</th>     <td>1.74</td> <th>  Jarque-Bera (JB):  </th> <td>2.05</td>\n",
       "</tr>\n",
       "<tr>\n",
       "  <th>Prob(Q):</th>                <td>0.19</td> <th>  Prob(JB):          </th> <td>0.36</td>\n",
       "</tr>\n",
       "<tr>\n",
       "  <th>Heteroskedasticity (H):</th> <td>1.71</td> <th>  Skew:              </th> <td>1.05</td>\n",
       "</tr>\n",
       "<tr>\n",
       "  <th>Prob(H) (two-sided):</th>    <td>0.61</td> <th>  Kurtosis:          </th> <td>3.18</td>\n",
       "</tr>\n",
       "</table><br/><br/>Warnings:<br/>[1] Covariance matrix calculated using the outer product of gradients (complex-step).<br/>[2] Covariance matrix is singular or near-singular, with condition number 1.98e+56. Standard errors may be unstable."
      ],
      "text/plain": [
       "<class 'statsmodels.iolib.summary.Summary'>\n",
       "\"\"\"\n",
       "                               SARIMAX Results                                \n",
       "==============================================================================\n",
       "Dep. Variable:                      y   No. Observations:                   11\n",
       "Model:               SARIMAX(0, 0, 1)   Log Likelihood                -268.116\n",
       "Date:                Sat, 04 Sep 2021   AIC                            542.233\n",
       "Time:                        09:43:15   BIC                            543.427\n",
       "Sample:                             0   HQIC                           541.480\n",
       "                                 - 11                                         \n",
       "Covariance Type:                  opg                                         \n",
       "==============================================================================\n",
       "                 coef    std err          z      P>|z|      [0.025      0.975]\n",
       "------------------------------------------------------------------------------\n",
       "intercept   4.724e+10   8.85e-11   5.34e+20      0.000    4.72e+10    4.72e+10\n",
       "ma.L1          0.7580      1.596      0.475      0.635      -2.371       3.887\n",
       "sigma2      1.123e+20   1.35e-20   8.31e+39      0.000    1.12e+20    1.12e+20\n",
       "===================================================================================\n",
       "Ljung-Box (L1) (Q):                   1.74   Jarque-Bera (JB):                 2.05\n",
       "Prob(Q):                              0.19   Prob(JB):                         0.36\n",
       "Heteroskedasticity (H):               1.71   Skew:                             1.05\n",
       "Prob(H) (two-sided):                  0.61   Kurtosis:                         3.18\n",
       "===================================================================================\n",
       "\n",
       "Warnings:\n",
       "[1] Covariance matrix calculated using the outer product of gradients (complex-step).\n",
       "[2] Covariance matrix is singular or near-singular, with condition number 1.98e+56. Standard errors may be unstable.\n",
       "\"\"\""
      ]
     },
     "execution_count": 34,
     "metadata": {},
     "output_type": "execute_result"
    }
   ],
   "source": [
    "step_fit = auto_arima(data, trace=True)\n",
    "\n",
    "step_fit.summary()"
   ]
  },
  {
   "cell_type": "code",
   "execution_count": 40,
   "id": "6a1cbb00",
   "metadata": {},
   "outputs": [
    {
     "data": {
      "text/plain": [
       "array([3.23396209e+10, 3.60940357e+10, 3.53950907e+10, 3.64626806e+10,\n",
       "       3.41177359e+10, 3.48015331e+10, 3.93236066e+10, 4.11086078e+10,\n",
       "       5.43780397e+10, 5.85435275e+10, 6.81826876e+10])"
      ]
     },
     "execution_count": 40,
     "metadata": {},
     "output_type": "execute_result"
    }
   ],
   "source": [
    "data"
   ]
  },
  {
   "cell_type": "code",
   "execution_count": 41,
   "id": "ce1a671e",
   "metadata": {},
   "outputs": [
    {
     "data": {
      "text/plain": [
       "array([3.23396209e+10, 3.60940357e+10, 3.53950907e+10, 3.64626806e+10,\n",
       "       3.41177359e+10, 3.48015331e+10, 3.93236066e+10, 4.11086078e+10,\n",
       "       5.43780397e+10, 5.85435275e+10])"
      ]
     },
     "execution_count": 41,
     "metadata": {},
     "output_type": "execute_result"
    }
   ],
   "source": [
    "data[:-1]"
   ]
  },
  {
   "cell_type": "code",
   "execution_count": 42,
   "id": "5c1d5ff6",
   "metadata": {},
   "outputs": [
    {
     "name": "stderr",
     "output_type": "stream",
     "text": [
      "/home/evgeniy/.local/lib/python3.9/site-packages/statsmodels/tsa/arima_model.py:472: FutureWarning: \n",
      "statsmodels.tsa.arima_model.ARMA and statsmodels.tsa.arima_model.ARIMA have\n",
      "been deprecated in favor of statsmodels.tsa.arima.model.ARIMA (note the .\n",
      "between arima and model) and\n",
      "statsmodels.tsa.SARIMAX. These will be removed after the 0.12 release.\n",
      "\n",
      "statsmodels.tsa.arima.model.ARIMA makes use of the statespace framework and\n",
      "is both well tested and maintained.\n",
      "\n",
      "To silence this warning and continue using ARMA and ARIMA until they are\n",
      "removed, use:\n",
      "\n",
      "import warnings\n",
      "warnings.filterwarnings('ignore', 'statsmodels.tsa.arima_model.ARMA',\n",
      "                        FutureWarning)\n",
      "warnings.filterwarnings('ignore', 'statsmodels.tsa.arima_model.ARIMA',\n",
      "                        FutureWarning)\n",
      "\n",
      "  warnings.warn(ARIMA_DEPRECATION_WARN, FutureWarning)\n"
     ]
    },
    {
     "data": {
      "text/html": [
       "<table class=\"simpletable\">\n",
       "<caption>ARMA Model Results</caption>\n",
       "<tr>\n",
       "  <th>Dep. Variable:</th>         <td>y</td>        <th>  No. Observations:  </th>       <td>10</td>      \n",
       "</tr>\n",
       "<tr>\n",
       "  <th>Model:</th>            <td>ARMA(0, 1)</td>    <th>  Log Likelihood     </th>    <td>-239.113</td>   \n",
       "</tr>\n",
       "<tr>\n",
       "  <th>Method:</th>             <td>css-mle</td>     <th>  S.D. of innovations</th> <td>5203944863.750</td>\n",
       "</tr>\n",
       "<tr>\n",
       "  <th>Date:</th>          <td>Sat, 04 Sep 2021</td> <th>  AIC                </th>     <td>484.227</td>   \n",
       "</tr>\n",
       "<tr>\n",
       "  <th>Time:</th>              <td>09:50:59</td>     <th>  BIC                </th>     <td>485.134</td>   \n",
       "</tr>\n",
       "<tr>\n",
       "  <th>Sample:</th>                <td>0</td>        <th>  HQIC               </th>     <td>483.231</td>   \n",
       "</tr>\n",
       "<tr>\n",
       "  <th></th>                       <td> </td>        <th>                     </th>        <td> </td>      \n",
       "</tr>\n",
       "</table>\n",
       "<table class=\"simpletable\">\n",
       "<tr>\n",
       "     <td></td>        <th>coef</th>     <th>std err</th>      <th>z</th>      <th>P>|z|</th>  <th>[0.025</th>    <th>0.975]</th>  \n",
       "</tr>\n",
       "<tr>\n",
       "  <th>const</th>   <td> 4.026e+10</td> <td> 3.15e+09</td> <td>   12.777</td> <td> 0.000</td> <td> 3.41e+10</td> <td> 4.64e+10</td>\n",
       "</tr>\n",
       "<tr>\n",
       "  <th>ma.L1.y</th> <td>    0.9996</td> <td>    0.276</td> <td>    3.627</td> <td> 0.000</td> <td>    0.459</td> <td>    1.540</td>\n",
       "</tr>\n",
       "</table>\n",
       "<table class=\"simpletable\">\n",
       "<caption>Roots</caption>\n",
       "<tr>\n",
       "    <td></td>   <th>            Real</th>  <th>         Imaginary</th> <th>         Modulus</th>  <th>        Frequency</th>\n",
       "</tr>\n",
       "<tr>\n",
       "  <th>MA.1</th> <td>          -1.0004</td> <td>          +0.0000j</td> <td>           1.0004</td> <td>           0.5000</td>\n",
       "</tr>\n",
       "</table>"
      ],
      "text/plain": [
       "<class 'statsmodels.iolib.summary.Summary'>\n",
       "\"\"\"\n",
       "                              ARMA Model Results                              \n",
       "==============================================================================\n",
       "Dep. Variable:                      y   No. Observations:                   10\n",
       "Model:                     ARMA(0, 1)   Log Likelihood                -239.113\n",
       "Method:                       css-mle   S.D. of innovations     5203944863.750\n",
       "Date:                Sat, 04 Sep 2021   AIC                            484.227\n",
       "Time:                        09:50:59   BIC                            485.134\n",
       "Sample:                             0   HQIC                           483.231\n",
       "                                                                              \n",
       "==============================================================================\n",
       "                 coef    std err          z      P>|z|      [0.025      0.975]\n",
       "------------------------------------------------------------------------------\n",
       "const       4.026e+10   3.15e+09     12.777      0.000    3.41e+10    4.64e+10\n",
       "ma.L1.y        0.9996      0.276      3.627      0.000       0.459       1.540\n",
       "                                    Roots                                    \n",
       "=============================================================================\n",
       "                  Real          Imaginary           Modulus         Frequency\n",
       "-----------------------------------------------------------------------------\n",
       "MA.1           -1.0004           +0.0000j            1.0004            0.5000\n",
       "-----------------------------------------------------------------------------\n",
       "\"\"\""
      ]
     },
     "execution_count": 42,
     "metadata": {},
     "output_type": "execute_result"
    }
   ],
   "source": [
    "model = ARIMA(data[:-1], order=(0,0,1))\n",
    "model = model.fit()\n",
    "model.summary()"
   ]
  },
  {
   "cell_type": "code",
   "execution_count": 50,
   "id": "c45fc62e",
   "metadata": {},
   "outputs": [
    {
     "name": "stdout",
     "output_type": "stream",
     "text": [
      "[4.01204486e+10 3.67124300e+10]\n"
     ]
    }
   ],
   "source": [
    "pred = model.predict(2, 3, typ='levels')\n",
    "print(pred)"
   ]
  },
  {
   "cell_type": "code",
   "execution_count": null,
   "id": "02709a61",
   "metadata": {},
   "outputs": [],
   "source": []
  },
  {
   "cell_type": "code",
   "execution_count": null,
   "id": "35000cc1",
   "metadata": {},
   "outputs": [],
   "source": []
  },
  {
   "cell_type": "code",
   "execution_count": null,
   "id": "718583d0",
   "metadata": {},
   "outputs": [],
   "source": []
  },
  {
   "cell_type": "code",
   "execution_count": 5,
   "id": "7b696be3",
   "metadata": {},
   "outputs": [
    {
     "data": {
      "text/plain": [
       "<pandas.io.excel._base.ExcelFile at 0x7fb7581d42b0>"
      ]
     },
     "execution_count": 5,
     "metadata": {},
     "output_type": "execute_result"
    }
   ],
   "source": [
    "db = pd.ExcelFile('Годовые отчеты об исполнении бюджета/2010.xlsx')\n",
    "db"
   ]
  },
  {
   "cell_type": "code",
   "execution_count": 6,
   "id": "ae3e8881",
   "metadata": {},
   "outputs": [
    {
     "data": {
      "text/html": [
       "<div>\n",
       "<style scoped>\n",
       "    .dataframe tbody tr th:only-of-type {\n",
       "        vertical-align: middle;\n",
       "    }\n",
       "\n",
       "    .dataframe tbody tr th {\n",
       "        vertical-align: top;\n",
       "    }\n",
       "\n",
       "    .dataframe thead th {\n",
       "        text-align: right;\n",
       "    }\n",
       "</style>\n",
       "<table border=\"1\" class=\"dataframe\">\n",
       "  <thead>\n",
       "    <tr style=\"text-align: right;\">\n",
       "      <th></th>\n",
       "      <th>Unnamed: 0</th>\n",
       "      <th>Unnamed: 1</th>\n",
       "      <th>Консолидированный бюджет субъекта Российской Федерации</th>\n",
       "      <th>Бюджет субъекта Российской Федерации</th>\n",
       "    </tr>\n",
       "  </thead>\n",
       "  <tbody>\n",
       "    <tr>\n",
       "      <th>0</th>\n",
       "      <td>1</td>\n",
       "      <td>NaN</td>\n",
       "      <td>1.300000e+01</td>\n",
       "      <td>1.400000e+01</td>\n",
       "    </tr>\n",
       "    <tr>\n",
       "      <th>1</th>\n",
       "      <td>Расходы бюджета - ИТОГО</td>\n",
       "      <td>х</td>\n",
       "      <td>3.233962e+10</td>\n",
       "      <td>2.564188e+10</td>\n",
       "    </tr>\n",
       "    <tr>\n",
       "      <th>2</th>\n",
       "      <td>Общегосударственные вопросы</td>\n",
       "      <td>000 0100 0000000 000 000</td>\n",
       "      <td>2.591150e+09</td>\n",
       "      <td>1.513612e+09</td>\n",
       "    </tr>\n",
       "    <tr>\n",
       "      <th>3</th>\n",
       "      <td>Расходы</td>\n",
       "      <td>000 0100 0000000 000 200</td>\n",
       "      <td>2.513381e+09</td>\n",
       "      <td>1.478363e+09</td>\n",
       "    </tr>\n",
       "    <tr>\n",
       "      <th>4</th>\n",
       "      <td>Оплата труда и начисления на выплаты по оплате...</td>\n",
       "      <td>000 0100 0000000 000 210</td>\n",
       "      <td>1.282779e+09</td>\n",
       "      <td>5.346150e+08</td>\n",
       "    </tr>\n",
       "    <tr>\n",
       "      <th>...</th>\n",
       "      <td>...</td>\n",
       "      <td>...</td>\n",
       "      <td>...</td>\n",
       "      <td>...</td>\n",
       "    </tr>\n",
       "    <tr>\n",
       "      <th>1162</th>\n",
       "      <td>Перечисления другим бюджетам бюджетной системы...</td>\n",
       "      <td>000 1105 0000000 000 251</td>\n",
       "      <td>1.126533e+09</td>\n",
       "      <td>1.126533e+09</td>\n",
       "    </tr>\n",
       "    <tr>\n",
       "      <th>1163</th>\n",
       "      <td>Итого внутренних оборотов</td>\n",
       "      <td>000 9700 0000000 000 000</td>\n",
       "      <td>8.376695e+09</td>\n",
       "      <td>8.396542e+09</td>\n",
       "    </tr>\n",
       "    <tr>\n",
       "      <th>1164</th>\n",
       "      <td>Перечисления другим бюджетам бюджетной системы...</td>\n",
       "      <td>000 9700 0000000 000 251</td>\n",
       "      <td>8.365988e+09</td>\n",
       "      <td>8.396542e+09</td>\n",
       "    </tr>\n",
       "    <tr>\n",
       "      <th>1165</th>\n",
       "      <td>обслуживание внутренних долговых обязательств</td>\n",
       "      <td>000 9700 0000000 000 231</td>\n",
       "      <td>1.070716e+07</td>\n",
       "      <td>NaN</td>\n",
       "    </tr>\n",
       "    <tr>\n",
       "      <th>1166</th>\n",
       "      <td>Результат исполнения бюджета (дефицит \"--\", пр...</td>\n",
       "      <td>000 7900 0000000 000 000</td>\n",
       "      <td>-4.887106e+08</td>\n",
       "      <td>-7.684342e+08</td>\n",
       "    </tr>\n",
       "  </tbody>\n",
       "</table>\n",
       "<p>1167 rows × 4 columns</p>\n",
       "</div>"
      ],
      "text/plain": [
       "                                             Unnamed: 0  \\\n",
       "0                                                     1   \n",
       "1                               Расходы бюджета - ИТОГО   \n",
       "2                           Общегосударственные вопросы   \n",
       "3                                               Расходы   \n",
       "4     Оплата труда и начисления на выплаты по оплате...   \n",
       "...                                                 ...   \n",
       "1162  Перечисления другим бюджетам бюджетной системы...   \n",
       "1163                          Итого внутренних оборотов   \n",
       "1164  Перечисления другим бюджетам бюджетной системы...   \n",
       "1165      обслуживание внутренних долговых обязательств   \n",
       "1166  Результат исполнения бюджета (дефицит \"--\", пр...   \n",
       "\n",
       "                    Unnamed: 1  \\\n",
       "0                          NaN   \n",
       "1                            х   \n",
       "2     000 0100 0000000 000 000   \n",
       "3     000 0100 0000000 000 200   \n",
       "4     000 0100 0000000 000 210   \n",
       "...                        ...   \n",
       "1162  000 1105 0000000 000 251   \n",
       "1163  000 9700 0000000 000 000   \n",
       "1164  000 9700 0000000 000 251   \n",
       "1165  000 9700 0000000 000 231   \n",
       "1166  000 7900 0000000 000 000   \n",
       "\n",
       "      Консолидированный бюджет субъекта Российской Федерации   \\\n",
       "0                                          1.300000e+01         \n",
       "1                                          3.233962e+10         \n",
       "2                                          2.591150e+09         \n",
       "3                                          2.513381e+09         \n",
       "4                                          1.282779e+09         \n",
       "...                                                 ...         \n",
       "1162                                       1.126533e+09         \n",
       "1163                                       8.376695e+09         \n",
       "1164                                       8.365988e+09         \n",
       "1165                                       1.070716e+07         \n",
       "1166                                      -4.887106e+08         \n",
       "\n",
       "      Бюджет субъекта Российской Федерации  \n",
       "0                             1.400000e+01  \n",
       "1                             2.564188e+10  \n",
       "2                             1.513612e+09  \n",
       "3                             1.478363e+09  \n",
       "4                             5.346150e+08  \n",
       "...                                    ...  \n",
       "1162                          1.126533e+09  \n",
       "1163                          8.396542e+09  \n",
       "1164                          8.396542e+09  \n",
       "1165                                   NaN  \n",
       "1166                         -7.684342e+08  \n",
       "\n",
       "[1167 rows x 4 columns]"
      ]
     },
     "execution_count": 6,
     "metadata": {},
     "output_type": "execute_result"
    }
   ],
   "source": [
    "db.parse(1)"
   ]
  },
  {
   "cell_type": "code",
   "execution_count": 22,
   "id": "81e35dfd",
   "metadata": {},
   "outputs": [
    {
     "data": {
      "text/plain": [
       "Index(['Unnamed: 0', 'Unnamed: 1',\n",
       "       'Консолидированный бюджет субъекта Российской Федерации ',\n",
       "       'Бюджет субъекта Российской Федерации'],\n",
       "      dtype='object')"
      ]
     },
     "execution_count": 22,
     "metadata": {},
     "output_type": "execute_result"
    }
   ],
   "source": [
    "db.parse(1).columns"
   ]
  },
  {
   "cell_type": "code",
   "execution_count": 24,
   "id": "173ba51b",
   "metadata": {},
   "outputs": [
    {
     "data": {
      "text/plain": [
       "198526597088"
      ]
     },
     "execution_count": 24,
     "metadata": {},
     "output_type": "execute_result"
    }
   ],
   "source": [
    "doxod = db.parse(0)['Unnamed: 2'].drop(0).dropna().astype(int).sum()\n",
    "doxod"
   ]
  },
  {
   "cell_type": "code",
   "execution_count": 25,
   "id": "7c8c860e",
   "metadata": {},
   "outputs": [
    {
     "data": {
      "text/plain": [
       "298995410819"
      ]
     },
     "execution_count": 25,
     "metadata": {},
     "output_type": "execute_result"
    }
   ],
   "source": [
    "rasxod = db.parse(1)['Консолидированный бюджет субъекта Российской Федерации '].dropna().astype(int).sum()\n",
    "rasxod"
   ]
  },
  {
   "cell_type": "code",
   "execution_count": 26,
   "id": "b34d7f22",
   "metadata": {},
   "outputs": [
    {
     "data": {
      "text/plain": [
       "-100468813731"
      ]
     },
     "execution_count": 26,
     "metadata": {},
     "output_type": "execute_result"
    }
   ],
   "source": [
    "doxod - rasxod"
   ]
  },
  {
   "cell_type": "code",
   "execution_count": 27,
   "id": "52a8f04c",
   "metadata": {},
   "outputs": [
    {
     "data": {
      "text/plain": [
       "-488710604.22999954"
      ]
     },
     "execution_count": 27,
     "metadata": {},
     "output_type": "execute_result"
    }
   ],
   "source": [
    "31850910313 - 32339620917.23"
   ]
  },
  {
   "cell_type": "code",
   "execution_count": null,
   "id": "bd1f13fa",
   "metadata": {},
   "outputs": [],
   "source": []
  }
 ],
 "metadata": {
  "kernelspec": {
   "display_name": "Python 3",
   "language": "python",
   "name": "python3"
  },
  "language_info": {
   "codemirror_mode": {
    "name": "ipython",
    "version": 3
   },
   "file_extension": ".py",
   "mimetype": "text/x-python",
   "name": "python",
   "nbconvert_exporter": "python",
   "pygments_lexer": "ipython3",
   "version": "3.9.5"
  }
 },
 "nbformat": 4,
 "nbformat_minor": 5
}
